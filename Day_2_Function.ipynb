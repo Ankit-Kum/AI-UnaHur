{
  "nbformat": 4,
  "nbformat_minor": 0,
  "metadata": {
    "colab": {
      "provenance": [],
      "authorship_tag": "ABX9TyNdvusNoxhdgNprZ8+21kop",
      "include_colab_link": true
    },
    "kernelspec": {
      "name": "python3",
      "display_name": "Python 3"
    },
    "language_info": {
      "name": "python"
    }
  },
  "cells": [
    {
      "cell_type": "markdown",
      "metadata": {
        "id": "view-in-github",
        "colab_type": "text"
      },
      "source": [
        "<a href=\"https://colab.research.google.com/github/Ankit-Kum/AI-UnaHur/blob/master/Day_2_Function.ipynb\" target=\"_parent\"><img src=\"https://colab.research.google.com/assets/colab-badge.svg\" alt=\"Open In Colab\"/></a>"
      ]
    },
    {
      "cell_type": "markdown",
      "source": [
        "#Function : block of code which only runs when it called\n",
        "#Type of Function\n",
        "\n",
        "1.   Funtion without parameters /argument\n",
        "2.   with parameter\n",
        "1.   default parameter\n",
        "2.   return value\n",
        "\n",
        "\n",
        "\n"
      ],
      "metadata": {
        "id": "JaMGnfqk7eQr"
      }
    },
    {
      "cell_type": "markdown",
      "source": [],
      "metadata": {
        "id": "zunhNYqK7kAO"
      }
    },
    {
      "cell_type": "code",
      "source": [
        "#without paramerter\n",
        "def myFunction():\n",
        "  print(\"This is my new function\")"
      ],
      "metadata": {
        "id": "MOFwEN-X7-st"
      },
      "execution_count": 2,
      "outputs": []
    },
    {
      "cell_type": "code",
      "source": [
        "myFunction()\n",
        "myFunction()"
      ],
      "metadata": {
        "colab": {
          "base_uri": "https://localhost:8080/"
        },
        "id": "tnyD3iMv8OrZ",
        "outputId": "4b0942e7-b9c7-4ec2-9270-5b238ec5fb53"
      },
      "execution_count": 3,
      "outputs": [
        {
          "output_type": "stream",
          "name": "stdout",
          "text": [
            "This is my new function\n",
            "This is my new function\n"
          ]
        }
      ]
    },
    {
      "cell_type": "code",
      "source": [
        "def myfun():\n",
        "  print('hello')"
      ],
      "metadata": {
        "id": "72ZifWeX8XQv"
      },
      "execution_count": 4,
      "outputs": []
    },
    {
      "cell_type": "code",
      "source": [
        "myfun()"
      ],
      "metadata": {
        "colab": {
          "base_uri": "https://localhost:8080/"
        },
        "id": "ihrkXe-y8l3d",
        "outputId": "ec4e633c-5f87-4ef0-e5b9-0805ea4e8b08"
      },
      "execution_count": 5,
      "outputs": [
        {
          "output_type": "stream",
          "name": "stdout",
          "text": [
            "hello\n"
          ]
        }
      ]
    },
    {
      "cell_type": "code",
      "source": [
        "#with parameter\n",
        "def add_five(x):\n",
        "  print(\"This is new value {}\".format(x + 5))"
      ],
      "metadata": {
        "id": "ZakYN_hm8o3V"
      },
      "execution_count": 10,
      "outputs": []
    },
    {
      "cell_type": "code",
      "source": [
        "add_five(10)\n",
        "add_five(20)\n",
        "add_five(30)\n",
        "add_five(40)\n",
        "add_five(50)"
      ],
      "metadata": {
        "colab": {
          "base_uri": "https://localhost:8080/"
        },
        "id": "KLeZmg6m8y5c",
        "outputId": "1e43fd6a-a19d-41b0-f33d-6c94c55272b1"
      },
      "execution_count": 11,
      "outputs": [
        {
          "output_type": "stream",
          "name": "stdout",
          "text": [
            "This is new value 15\n",
            "This is new value 25\n",
            "This is new value 35\n",
            "This is new value 45\n",
            "This is new value 55\n"
          ]
        }
      ]
    },
    {
      "cell_type": "code",
      "source": [
        "def add_two_num(a,b):\n",
        "  sum = a + b\n",
        "  print(\"The sum is {}\".format(sum))"
      ],
      "metadata": {
        "id": "tDPYg2N99BdC"
      },
      "execution_count": 12,
      "outputs": []
    },
    {
      "cell_type": "code",
      "source": [
        "add_two_num(20,456)"
      ],
      "metadata": {
        "colab": {
          "base_uri": "https://localhost:8080/"
        },
        "id": "ckh6IOCO9ml5",
        "outputId": "243aa9e0-6a5d-4050-f218-21bd1a059097"
      },
      "execution_count": 13,
      "outputs": [
        {
          "output_type": "stream",
          "name": "stdout",
          "text": [
            "The sum is 476\n"
          ]
        }
      ]
    },
    {
      "cell_type": "code",
      "source": [
        "add_two_num(20.5,456)"
      ],
      "metadata": {
        "colab": {
          "base_uri": "https://localhost:8080/"
        },
        "id": "uoWO69EK9qLG",
        "outputId": "76f6934b-d9f4-4b8c-85bd-848bd7d56aee"
      },
      "execution_count": 14,
      "outputs": [
        {
          "output_type": "stream",
          "name": "stdout",
          "text": [
            "The sum is 476.5\n"
          ]
        }
      ]
    },
    {
      "cell_type": "code",
      "source": [
        "def div_two_num(a,b):\n",
        "  result = a / b\n",
        "  print(\"The sum is {}\".format(result))"
      ],
      "metadata": {
        "id": "AjAwYlYx9zui"
      },
      "execution_count": 15,
      "outputs": []
    },
    {
      "cell_type": "code",
      "source": [
        "div_two_num(5,2)"
      ],
      "metadata": {
        "colab": {
          "base_uri": "https://localhost:8080/"
        },
        "id": "gLCe44gX9-Aa",
        "outputId": "94e4fa48-3bcc-4023-9175-5b78835d69db"
      },
      "execution_count": 16,
      "outputs": [
        {
          "output_type": "stream",
          "name": "stdout",
          "text": [
            "The sum is 2.5\n"
          ]
        }
      ]
    },
    {
      "cell_type": "code",
      "source": [
        "div_two_num(b=2,a=5)"
      ],
      "metadata": {
        "colab": {
          "base_uri": "https://localhost:8080/"
        },
        "id": "H0WnXVov-BjU",
        "outputId": "8d31bbca-1642-4a25-eace-965267a77688"
      },
      "execution_count": 17,
      "outputs": [
        {
          "output_type": "stream",
          "name": "stdout",
          "text": [
            "The sum is 2.5\n"
          ]
        }
      ]
    },
    {
      "cell_type": "code",
      "source": [
        "## with default parameter\n",
        "\n",
        "def cal(a ,b,op):\n",
        "  if op == '+':\n",
        "   print(a+b)\n",
        "  elif op == '-':\n",
        "   print(a-b)\n",
        "  elif op == '/':\n",
        "   print(a/b)\n",
        "  elif op == '*':\n",
        "   print(a*b)\n",
        "  elif op == '//':\n",
        "   print(a//b)\n",
        "  else:\n",
        "    print(\"invalod opertaion\")\n",
        ""
      ],
      "metadata": {
        "id": "raOV5oB9-NEi"
      },
      "execution_count": 18,
      "outputs": []
    },
    {
      "cell_type": "code",
      "source": [
        "cal(10,29,\"/\")"
      ],
      "metadata": {
        "colab": {
          "base_uri": "https://localhost:8080/"
        },
        "id": "k1E39kkM_CsT",
        "outputId": "57b7f381-6fe6-4e7d-ec6b-2125020e7b43"
      },
      "execution_count": 19,
      "outputs": [
        {
          "output_type": "stream",
          "name": "stdout",
          "text": [
            "0.3448275862068966\n"
          ]
        }
      ]
    },
    {
      "cell_type": "code",
      "source": [
        "def cal(a ,b,op=\"-\"):\n",
        "  if op == '+':\n",
        "   print(a+b)\n",
        "  elif op == '-':\n",
        "   print(a-b)\n",
        "  elif op == '/':\n",
        "   print(a/b)\n",
        "  elif op == '*':\n",
        "   print(a*b)\n",
        "  elif op == '//':\n",
        "   print(a//b)\n",
        "  else:\n",
        "    print(\"invalod opertaion\")"
      ],
      "metadata": {
        "id": "dlD3kDzu_Hn1"
      },
      "execution_count": 26,
      "outputs": []
    },
    {
      "cell_type": "code",
      "source": [
        "cal (20,10)"
      ],
      "metadata": {
        "colab": {
          "base_uri": "https://localhost:8080/"
        },
        "id": "U0-pmr96_XEh",
        "outputId": "c21e7272-eed5-4b23-9e78-bac58d81b459"
      },
      "execution_count": 27,
      "outputs": [
        {
          "output_type": "stream",
          "name": "stdout",
          "text": [
            "10\n"
          ]
        }
      ]
    },
    {
      "cell_type": "code",
      "source": [
        "cal(120,23)"
      ],
      "metadata": {
        "colab": {
          "base_uri": "https://localhost:8080/"
        },
        "id": "YFb4anCX_Z0B",
        "outputId": "6b46c900-a36a-4e3b-dc53-c0c5ceb7d79d"
      },
      "execution_count": 28,
      "outputs": [
        {
          "output_type": "stream",
          "name": "stdout",
          "text": [
            "97\n"
          ]
        }
      ]
    },
    {
      "cell_type": "code",
      "source": [
        "cal(247,34,\"/\")"
      ],
      "metadata": {
        "colab": {
          "base_uri": "https://localhost:8080/"
        },
        "id": "TPiIZJETBcPn",
        "outputId": "8311f647-9c36-4956-c58c-ede216debdb7"
      },
      "execution_count": 31,
      "outputs": [
        {
          "output_type": "stream",
          "name": "stdout",
          "text": [
            "7.264705882352941\n"
          ]
        }
      ]
    },
    {
      "cell_type": "code",
      "source": [
        "def cal(a=10,b=20,op=\"+\"):\n",
        "  if op == '+':\n",
        "   print(a+b)\n",
        "  elif op == '-':\n",
        "   print(a-b)\n",
        "  elif op == '/':\n",
        "   print(a/b)\n",
        "  elif op == '*':\n",
        "   print(a*b)\n",
        "  elif op == '//':\n",
        "   print(a//b)\n",
        "  else:\n",
        "    print(\"invalod opertaion\")"
      ],
      "metadata": {
        "id": "8POshIWH_lh-"
      },
      "execution_count": 32,
      "outputs": []
    },
    {
      "cell_type": "code",
      "source": [
        "cal()"
      ],
      "metadata": {
        "colab": {
          "base_uri": "https://localhost:8080/"
        },
        "id": "PuoyMMsn_7So",
        "outputId": "4aa2ea91-28fd-4371-9855-e2073679e781"
      },
      "execution_count": 33,
      "outputs": [
        {
          "output_type": "stream",
          "name": "stdout",
          "text": [
            "30\n"
          ]
        }
      ]
    },
    {
      "cell_type": "code",
      "source": [
        "cal(23,23)"
      ],
      "metadata": {
        "colab": {
          "base_uri": "https://localhost:8080/"
        },
        "id": "_c24WoqxB8Hd",
        "outputId": "c04cb86e-2594-4ac0-cce7-99fe4b8ada71"
      },
      "execution_count": 39,
      "outputs": [
        {
          "output_type": "execute_result",
          "data": {
            "text/plain": [
              "46"
            ]
          },
          "metadata": {},
          "execution_count": 39
        }
      ]
    },
    {
      "cell_type": "code",
      "source": [
        "cal(23,23, \"/\")"
      ],
      "metadata": {
        "colab": {
          "base_uri": "https://localhost:8080/"
        },
        "id": "CHHJ32tRCAsj",
        "outputId": "8fa1a87b-00b7-4117-dfc8-9c5ec131cc70"
      },
      "execution_count": 35,
      "outputs": [
        {
          "output_type": "stream",
          "name": "stdout",
          "text": [
            "1.0\n"
          ]
        }
      ]
    },
    {
      "cell_type": "code",
      "source": [
        "result = cal(23,23)"
      ],
      "metadata": {
        "colab": {
          "base_uri": "https://localhost:8080/"
        },
        "id": "m9HWeKOJCIGW",
        "outputId": "62616604-8d7b-4131-ed7f-032df90c2ab1"
      },
      "execution_count": 36,
      "outputs": [
        {
          "output_type": "stream",
          "name": "stdout",
          "text": [
            "46\n"
          ]
        }
      ]
    },
    {
      "cell_type": "code",
      "source": [
        "print (result)"
      ],
      "metadata": {
        "colab": {
          "base_uri": "https://localhost:8080/"
        },
        "id": "4c3S3WxdChA8",
        "outputId": "7ed86c20-02a5-4f7c-de56-62b1cbcf7dab"
      },
      "execution_count": 37,
      "outputs": [
        {
          "output_type": "stream",
          "name": "stdout",
          "text": [
            "None\n"
          ]
        }
      ]
    },
    {
      "cell_type": "code",
      "source": [
        "def cal2(a=10,b=20,op=\"+\"):\n",
        "  if op == '+':\n",
        "   return (a+b)\n",
        "  elif op == '-':\n",
        "   return(a-b)\n",
        "  elif op == '/':\n",
        "   return(a/b)\n",
        "  elif op == '*':\n",
        "   return(a*b)\n",
        "  elif op == '//':\n",
        "   return(a//b)\n",
        "  else:\n",
        "    return(\"invalod opertaion\")"
      ],
      "metadata": {
        "id": "JJ7RPIRaCl1T"
      },
      "execution_count": 41,
      "outputs": []
    },
    {
      "cell_type": "code",
      "source": [
        "cal2(23,23)"
      ],
      "metadata": {
        "colab": {
          "base_uri": "https://localhost:8080/"
        },
        "id": "D1ju31XZDMKj",
        "outputId": "ece3e287-580e-4edb-acc2-128fd88168aa"
      },
      "execution_count": 42,
      "outputs": [
        {
          "output_type": "execute_result",
          "data": {
            "text/plain": [
              "46"
            ]
          },
          "metadata": {},
          "execution_count": 42
        }
      ]
    },
    {
      "cell_type": "code",
      "source": [
        "res = cal2(23,23)"
      ],
      "metadata": {
        "id": "daHQVVfVDOhi"
      },
      "execution_count": 43,
      "outputs": []
    },
    {
      "cell_type": "code",
      "source": [
        "print (res)"
      ],
      "metadata": {
        "colab": {
          "base_uri": "https://localhost:8080/"
        },
        "id": "wnY8TrWGDT9x",
        "outputId": "bbe3a64e-16d0-43ed-fcc2-7a2d927f0ce9"
      },
      "execution_count": 44,
      "outputs": [
        {
          "output_type": "stream",
          "name": "stdout",
          "text": [
            "46\n"
          ]
        }
      ]
    },
    {
      "cell_type": "code",
      "source": [],
      "metadata": {
        "id": "9i8EmXIODYg2"
      },
      "execution_count": null,
      "outputs": []
    },
    {
      "cell_type": "markdown",
      "source": [
        "**Lambda Finction**"
      ],
      "metadata": {
        "id": "rwJqWkX-EH-6"
      }
    },
    {
      "cell_type": "code",
      "source": [
        "# lambda is are anonymous function ==> the function without the name.\n",
        "\n",
        "#add two values\n",
        "\n",
        "mymult = lambda a : a*2"
      ],
      "metadata": {
        "id": "fktVJ5GgEMfj"
      },
      "execution_count": 47,
      "outputs": []
    },
    {
      "cell_type": "code",
      "source": [
        "print(mymult(3))"
      ],
      "metadata": {
        "colab": {
          "base_uri": "https://localhost:8080/"
        },
        "id": "8kplJjfEErjx",
        "outputId": "93d943f3-2c0c-4e4e-cd29-2e46a80f03d1"
      },
      "execution_count": 53,
      "outputs": [
        {
          "output_type": "stream",
          "name": "stdout",
          "text": [
            "6\n"
          ]
        }
      ]
    },
    {
      "cell_type": "code",
      "source": [
        "f2 = lambda a ,b : a+b"
      ],
      "metadata": {
        "id": "1JMJY1pxE4vb"
      },
      "execution_count": 55,
      "outputs": []
    },
    {
      "cell_type": "code",
      "source": [
        "f2(232,222)"
      ],
      "metadata": {
        "colab": {
          "base_uri": "https://localhost:8080/"
        },
        "id": "W6ZpuubCFHrX",
        "outputId": "90e9e436-a1d0-45e3-9b02-7510a290eeb9"
      },
      "execution_count": 51,
      "outputs": [
        {
          "output_type": "execute_result",
          "data": {
            "text/plain": [
              "454"
            ]
          },
          "metadata": {},
          "execution_count": 51
        }
      ]
    },
    {
      "cell_type": "code",
      "source": [
        "print(f2(232,222))\n",
        "print(f2(2,3))\n",
        "print(f2(4,5))\n",
        "print(f2(5,6))"
      ],
      "metadata": {
        "colab": {
          "base_uri": "https://localhost:8080/"
        },
        "id": "Arn-_aJKFLf8",
        "outputId": "df187e01-0cb8-4c86-e3ea-fc47c466fc5d"
      },
      "execution_count": 56,
      "outputs": [
        {
          "output_type": "stream",
          "name": "stdout",
          "text": [
            "454\n",
            "5\n",
            "9\n",
            "11\n"
          ]
        }
      ]
    },
    {
      "cell_type": "code",
      "source": [
        "f3 = lambda a,b,c=4 : a+b+c"
      ],
      "metadata": {
        "id": "a15sGHCmFXaU"
      },
      "execution_count": 58,
      "outputs": []
    },
    {
      "cell_type": "code",
      "source": [
        "print(f3(232,222))\n",
        "print(f3(2,3))\n",
        "print(f3(4,5))\n",
        "print(f3(5,6))"
      ],
      "metadata": {
        "colab": {
          "base_uri": "https://localhost:8080/"
        },
        "id": "j1o9zxigFp-P",
        "outputId": "6dcb4ea5-c818-4dc4-fb86-ec8275ae3566"
      },
      "execution_count": 59,
      "outputs": [
        {
          "output_type": "stream",
          "name": "stdout",
          "text": [
            "458\n",
            "9\n",
            "13\n",
            "15\n"
          ]
        }
      ]
    },
    {
      "cell_type": "code",
      "source": [
        "login = lambda user_id , pr : 'Successfull login' if user_id == 'abc' and pr == '12345' else 'bad login'"
      ],
      "metadata": {
        "id": "XioVcVVJFwF9"
      },
      "execution_count": 61,
      "outputs": []
    },
    {
      "cell_type": "code",
      "source": [
        "user_id = input('Enter your id ')\n",
        "pr = input ('Enter your name ')\n",
        "\n",
        "login(user_id,pr)"
      ],
      "metadata": {
        "colab": {
          "base_uri": "https://localhost:8080/",
          "height": 73
        },
        "id": "g9oq4FCKGT4F",
        "outputId": "c5b2d0cf-2e21-461d-d942-7511f096108b"
      },
      "execution_count": 64,
      "outputs": [
        {
          "name": "stdout",
          "output_type": "stream",
          "text": [
            "Enter your id abc\n",
            "Enter your name 12345\n"
          ]
        },
        {
          "output_type": "execute_result",
          "data": {
            "text/plain": [
              "'Successfull login'"
            ],
            "application/vnd.google.colaboratory.intrinsic+json": {
              "type": "string"
            }
          },
          "metadata": {},
          "execution_count": 64
        }
      ]
    },
    {
      "cell_type": "code",
      "source": [
        "def check_even(x):\n",
        "  if x % 2 == 0:\n",
        "    return 'Even'\n",
        "  else:\n",
        "    return 'odd'"
      ],
      "metadata": {
        "id": "lloYJ5-_GqRk"
      },
      "execution_count": 94,
      "outputs": []
    },
    {
      "cell_type": "code",
      "source": [
        "print(check_even(10))\n",
        "print(check_even(9))"
      ],
      "metadata": {
        "colab": {
          "base_uri": "https://localhost:8080/"
        },
        "id": "ejTQMxSSHRJC",
        "outputId": "74fde1c1-2b5c-4cdb-f6f9-6eea5f499222"
      },
      "execution_count": 70,
      "outputs": [
        {
          "output_type": "stream",
          "name": "stdout",
          "text": [
            "Even\n",
            "odd\n"
          ]
        }
      ]
    },
    {
      "cell_type": "code",
      "source": [
        "check_using_lam = lambda x : 'Even' if x % 2 ==0 else 'odd'"
      ],
      "metadata": {
        "id": "i8WXGvBFHbjV"
      },
      "execution_count": 69,
      "outputs": []
    },
    {
      "cell_type": "code",
      "source": [
        "print(check_using_lam(10))\n",
        "print(check_using_lam(9))"
      ],
      "metadata": {
        "colab": {
          "base_uri": "https://localhost:8080/"
        },
        "id": "b1bbVrTVHrId",
        "outputId": "c2372594-f340-40dc-bd15-74910d2aa8f9"
      },
      "execution_count": 71,
      "outputs": [
        {
          "output_type": "stream",
          "name": "stdout",
          "text": [
            "Even\n",
            "odd\n"
          ]
        }
      ]
    },
    {
      "cell_type": "code",
      "source": [
        "#Table\n",
        "def table(x):\n",
        "  tab = []\n",
        "  for i in range(1,11):\n",
        "    tab.append(i * x)\n",
        "  return tab\n"
      ],
      "metadata": {
        "id": "REtdkDmUHvBq"
      },
      "execution_count": 82,
      "outputs": []
    },
    {
      "cell_type": "code",
      "source": [
        "A = [3,2,1]"
      ],
      "metadata": {
        "id": "V-FjUif7JfP4"
      },
      "execution_count": 83,
      "outputs": []
    },
    {
      "cell_type": "code",
      "source": [
        "A.append(6)\n",
        "A.append(7)"
      ],
      "metadata": {
        "id": "rMkTQe8nJfRk"
      },
      "execution_count": 80,
      "outputs": []
    },
    {
      "cell_type": "code",
      "source": [
        "A"
      ],
      "metadata": {
        "colab": {
          "base_uri": "https://localhost:8080/"
        },
        "id": "KTIeSOCoKV-7",
        "outputId": "91fe17c9-d73f-4856-e49b-7f0b6a0b9c66"
      },
      "execution_count": 81,
      "outputs": [
        {
          "output_type": "execute_result",
          "data": {
            "text/plain": [
              "[3, 2, 1, 6, 7]"
            ]
          },
          "metadata": {},
          "execution_count": 81
        }
      ]
    },
    {
      "cell_type": "code",
      "source": [
        "table(3)"
      ],
      "metadata": {
        "colab": {
          "base_uri": "https://localhost:8080/"
        },
        "id": "ysEu9RrPKXNj",
        "outputId": "812d1791-b84c-420e-b421-6d6b8696ab00"
      },
      "execution_count": 84,
      "outputs": [
        {
          "output_type": "execute_result",
          "data": {
            "text/plain": [
              "[3, 6, 9, 12, 15, 18, 21, 24, 27, 30]"
            ]
          },
          "metadata": {},
          "execution_count": 84
        }
      ]
    },
    {
      "cell_type": "code",
      "source": [
        "mytable = lambda x : [i * x for i in range(1,11)]"
      ],
      "metadata": {
        "id": "l3pa0HUlKiU-"
      },
      "execution_count": 85,
      "outputs": []
    },
    {
      "cell_type": "code",
      "source": [
        "mytable(9)"
      ],
      "metadata": {
        "colab": {
          "base_uri": "https://localhost:8080/"
        },
        "id": "CKHYY9r1K66q",
        "outputId": "17690af9-7cd6-474c-a840-02505eaae559"
      },
      "execution_count": 86,
      "outputs": [
        {
          "output_type": "execute_result",
          "data": {
            "text/plain": [
              "[9, 18, 27, 36, 45, 54, 63, 72, 81, 90]"
            ]
          },
          "metadata": {},
          "execution_count": 86
        }
      ]
    },
    {
      "cell_type": "code",
      "source": [
        "A"
      ],
      "metadata": {
        "colab": {
          "base_uri": "https://localhost:8080/"
        },
        "id": "g6Y-bVmSK8iI",
        "outputId": "59212066-1458-48e4-b319-64eeae22975d"
      },
      "execution_count": 87,
      "outputs": [
        {
          "output_type": "execute_result",
          "data": {
            "text/plain": [
              "[3, 2, 1]"
            ]
          },
          "metadata": {},
          "execution_count": 87
        }
      ]
    },
    {
      "cell_type": "code",
      "source": [
        "A.insert(2,10)"
      ],
      "metadata": {
        "id": "7ZozoPA2LpOi"
      },
      "execution_count": 89,
      "outputs": []
    },
    {
      "cell_type": "code",
      "source": [
        "A"
      ],
      "metadata": {
        "colab": {
          "base_uri": "https://localhost:8080/"
        },
        "id": "zSvOGVEVLuAl",
        "outputId": "b19d1eb5-0e45-4da3-9c39-2f72a37b3d23"
      },
      "execution_count": 90,
      "outputs": [
        {
          "output_type": "execute_result",
          "data": {
            "text/plain": [
              "[3, 2, 10, 1]"
            ]
          },
          "metadata": {},
          "execution_count": 90
        }
      ]
    },
    {
      "cell_type": "code",
      "source": [
        "A.append(20)"
      ],
      "metadata": {
        "id": "Rwhzo22XLxwd"
      },
      "execution_count": 91,
      "outputs": []
    },
    {
      "cell_type": "code",
      "source": [
        "A"
      ],
      "metadata": {
        "colab": {
          "base_uri": "https://localhost:8080/"
        },
        "id": "N0vD9SZwL1ci",
        "outputId": "2bb0dc89-32cf-4a76-b294-d9d1f2ad6adc"
      },
      "execution_count": 92,
      "outputs": [
        {
          "output_type": "execute_result",
          "data": {
            "text/plain": [
              "[3, 2, 10, 1, 20]"
            ]
          },
          "metadata": {},
          "execution_count": 92
        }
      ]
    },
    {
      "cell_type": "code",
      "source": [
        "#check frequency\n",
        "\n",
        "check =  lambda freq : 'low freq' if freq < 10 else 'medium' if freq < 20 else 'high'"
      ],
      "metadata": {
        "id": "wIGp4lbkL2Ns"
      },
      "execution_count": 96,
      "outputs": []
    },
    {
      "cell_type": "code",
      "source": [
        "check(10)"
      ],
      "metadata": {
        "colab": {
          "base_uri": "https://localhost:8080/",
          "height": 36
        },
        "id": "W68jMWf-SNSL",
        "outputId": "8ee970c8-3dc7-4ebb-dbb4-7fcbb6791157"
      },
      "execution_count": 97,
      "outputs": [
        {
          "output_type": "execute_result",
          "data": {
            "text/plain": [
              "'medium'"
            ],
            "application/vnd.google.colaboratory.intrinsic+json": {
              "type": "string"
            }
          },
          "metadata": {},
          "execution_count": 97
        }
      ]
    },
    {
      "cell_type": "code",
      "source": [
        "def myfreq (freq):\n",
        "  if freq < 10 & freq >= 15 :\n",
        "    print (\"Low\")\n",
        "  elif freq < 20:\n",
        "    print (\"Medium\")\n",
        "  else :\n",
        "    print (\"High\")\n",
        "\n"
      ],
      "metadata": {
        "id": "o0Na4pYxSUYt"
      },
      "execution_count": 103,
      "outputs": []
    },
    {
      "cell_type": "code",
      "source": [
        "myfreq(16)"
      ],
      "metadata": {
        "colab": {
          "base_uri": "https://localhost:8080/"
        },
        "id": "Rh2L7c1pSvAs",
        "outputId": "e1c443ae-b0e5-4738-a748-e40dea03c762"
      },
      "execution_count": 104,
      "outputs": [
        {
          "output_type": "stream",
          "name": "stdout",
          "text": [
            "Medium\n"
          ]
        }
      ]
    },
    {
      "cell_type": "code",
      "source": [],
      "metadata": {
        "id": "Smh83VwuSxd5"
      },
      "execution_count": null,
      "outputs": []
    }
  ]
}